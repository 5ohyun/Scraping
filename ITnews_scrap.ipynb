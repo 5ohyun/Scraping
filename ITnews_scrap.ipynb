{
 "metadata": {
  "language_info": {
   "codemirror_mode": {
    "name": "ipython",
    "version": 3
   },
   "file_extension": ".py",
   "mimetype": "text/x-python",
   "name": "python",
   "nbconvert_exporter": "python",
   "pygments_lexer": "ipython3",
   "version": "3.7.6-final"
  },
  "orig_nbformat": 2,
  "kernelspec": {
   "name": "python_defaultSpec_1600050865290",
   "display_name": "Python 3.7.6 64-bit ('base': conda)"
  }
 },
 "nbformat": 4,
 "nbformat_minor": 2,
 "cells": [
  {
   "source": [
    "# IT조선\n",
    "1. 긁어올 뉴스 리스트"
   ],
   "cell_type": "markdown",
   "metadata": {}
  },
  {
   "cell_type": "code",
   "execution_count": 14,
   "metadata": {
    "tags": []
   },
   "outputs": [
    {
     "output_type": "stream",
     "name": "stdout",
     "text": "Requirement already satisfied: requests in c:\\users\\leeso\\anaconda3\\lib\\site-packages (2.22.0)\nRequirement already satisfied: chardet<3.1.0,>=3.0.2 in c:\\users\\leeso\\anaconda3\\lib\\site-packages (from requests) (3.0.4)\nRequirement already satisfied: urllib3!=1.25.0,!=1.25.1,<1.26,>=1.21.1 in c:\\users\\leeso\\anaconda3\\lib\\site-packages (from requests) (1.25.8)\nRequirement already satisfied: certifi>=2017.4.17 in c:\\users\\leeso\\anaconda3\\lib\\site-packages (from requests) (2019.11.28)\nRequirement already satisfied: idna<2.9,>=2.5 in c:\\users\\leeso\\anaconda3\\lib\\site-packages (from requests) (2.8)\n"
    }
   ],
   "source": [
    "!pip install requests"
   ]
  },
  {
   "cell_type": "code",
   "execution_count": 4,
   "metadata": {},
   "outputs": [],
   "source": [
    "import requests\n",
    "from bs4 import BeautifulSoup\n",
    "from selenium import webdriver\n",
    "import time\n",
    "from selenium import webdriver as wd\n",
    "import pandas as pd\n",
    "import numpy as np"
   ]
  },
  {
   "cell_type": "code",
   "execution_count": 13,
   "metadata": {
    "tags": []
   },
   "outputs": [
    {
     "output_type": "stream",
     "name": "stdout",
     "text": "Requirement already satisfied: requests in c:\\users\\leeso\\anaconda3\\lib\\site-packages (2.22.0)\nRequirement already satisfied: chardet<3.1.0,>=3.0.2 in c:\\users\\leeso\\anaconda3\\lib\\site-packages (from requests) (3.0.4)\nRequirement already satisfied: certifi>=2017.4.17 in c:\\users\\leeso\\anaconda3\\lib\\site-packages (from requests) (2019.11.28)\nRequirement already satisfied: idna<2.9,>=2.5 in c:\\users\\leeso\\anaconda3\\lib\\site-packages (from requests) (2.8)\nRequirement already satisfied: urllib3!=1.25.0,!=1.25.1,<1.26,>=1.21.1 in c:\\users\\leeso\\anaconda3\\lib\\site-packages (from requests) (1.25.8)\n"
    }
   ],
   "source": []
  },
  {
   "cell_type": "code",
   "execution_count": 2,
   "metadata": {
    "tags": []
   },
   "outputs": [
    {
     "output_type": "error",
     "ename": "KeyboardInterrupt",
     "evalue": "",
     "traceback": [
      "\u001b[1;31m---------------------------------------------------------------------------\u001b[0m",
      "\u001b[1;31mKeyboardInterrupt\u001b[0m                         Traceback (most recent call last)",
      "\u001b[1;32m<ipython-input-2-1a66e771800c>\u001b[0m in \u001b[0;36m<module>\u001b[1;34m\u001b[0m\n\u001b[0;32m     10\u001b[0m \u001b[1;33m\u001b[0m\u001b[0m\n\u001b[0;32m     11\u001b[0m \u001b[1;32mfor\u001b[0m \u001b[0mi\u001b[0m \u001b[1;32min\u001b[0m \u001b[0mrange\u001b[0m\u001b[1;33m(\u001b[0m\u001b[1;36m1\u001b[0m\u001b[1;33m,\u001b[0m\u001b[1;36m200\u001b[0m\u001b[1;33m)\u001b[0m\u001b[1;33m:\u001b[0m\u001b[1;33m\u001b[0m\u001b[1;33m\u001b[0m\u001b[0m\n\u001b[1;32m---> 12\u001b[1;33m     \u001b[0mresponse\u001b[0m \u001b[1;33m=\u001b[0m \u001b[0mrequests\u001b[0m\u001b[1;33m.\u001b[0m\u001b[0mget\u001b[0m\u001b[1;33m(\u001b[0m\u001b[1;34m'http://it.chosun.com/svc/list_in/search.html?query=%EC%9D%B8%EA%B3%B5%EC%A7%80%EB%8A%A5&sort=regdate&pn='\u001b[0m\u001b[1;33m+\u001b[0m\u001b[0mstr\u001b[0m\u001b[1;33m(\u001b[0m\u001b[0mi\u001b[0m\u001b[1;33m)\u001b[0m\u001b[1;33m)\u001b[0m\u001b[1;33m\u001b[0m\u001b[1;33m\u001b[0m\u001b[0m\n\u001b[0m\u001b[0;32m     13\u001b[0m     \u001b[0msoup\u001b[0m \u001b[1;33m=\u001b[0m \u001b[0mBeautifulSoup\u001b[0m\u001b[1;33m(\u001b[0m\u001b[0mresponse\u001b[0m\u001b[1;33m.\u001b[0m\u001b[0mtext\u001b[0m\u001b[1;33m,\u001b[0m \u001b[1;34m'html.parser'\u001b[0m\u001b[1;33m)\u001b[0m\u001b[1;33m\u001b[0m\u001b[1;33m\u001b[0m\u001b[0m\n\u001b[0;32m     14\u001b[0m     \u001b[0mtitle\u001b[0m \u001b[1;33m=\u001b[0m \u001b[0msoup\u001b[0m\u001b[1;33m.\u001b[0m\u001b[0mselect\u001b[0m\u001b[1;33m(\u001b[0m\u001b[1;34m'.txt_dot1'\u001b[0m\u001b[1;33m)\u001b[0m \u001b[1;31m#.get_text()\u001b[0m\u001b[1;33m\u001b[0m\u001b[1;33m\u001b[0m\u001b[0m\n",
      "\u001b[1;32m~\\anaconda3\\lib\\site-packages\\requests\\api.py\u001b[0m in \u001b[0;36mget\u001b[1;34m(url, params, **kwargs)\u001b[0m\n\u001b[0;32m     73\u001b[0m \u001b[1;33m\u001b[0m\u001b[0m\n\u001b[0;32m     74\u001b[0m     \u001b[0mkwargs\u001b[0m\u001b[1;33m.\u001b[0m\u001b[0msetdefault\u001b[0m\u001b[1;33m(\u001b[0m\u001b[1;34m'allow_redirects'\u001b[0m\u001b[1;33m,\u001b[0m \u001b[1;32mTrue\u001b[0m\u001b[1;33m)\u001b[0m\u001b[1;33m\u001b[0m\u001b[1;33m\u001b[0m\u001b[0m\n\u001b[1;32m---> 75\u001b[1;33m     \u001b[1;32mreturn\u001b[0m \u001b[0mrequest\u001b[0m\u001b[1;33m(\u001b[0m\u001b[1;34m'get'\u001b[0m\u001b[1;33m,\u001b[0m \u001b[0murl\u001b[0m\u001b[1;33m,\u001b[0m \u001b[0mparams\u001b[0m\u001b[1;33m=\u001b[0m\u001b[0mparams\u001b[0m\u001b[1;33m,\u001b[0m \u001b[1;33m**\u001b[0m\u001b[0mkwargs\u001b[0m\u001b[1;33m)\u001b[0m\u001b[1;33m\u001b[0m\u001b[1;33m\u001b[0m\u001b[0m\n\u001b[0m\u001b[0;32m     76\u001b[0m \u001b[1;33m\u001b[0m\u001b[0m\n\u001b[0;32m     77\u001b[0m \u001b[1;33m\u001b[0m\u001b[0m\n",
      "\u001b[1;32m~\\anaconda3\\lib\\site-packages\\requests\\api.py\u001b[0m in \u001b[0;36mrequest\u001b[1;34m(method, url, **kwargs)\u001b[0m\n\u001b[0;32m     58\u001b[0m     \u001b[1;31m# cases, and look like a memory leak in others.\u001b[0m\u001b[1;33m\u001b[0m\u001b[1;33m\u001b[0m\u001b[1;33m\u001b[0m\u001b[0m\n\u001b[0;32m     59\u001b[0m     \u001b[1;32mwith\u001b[0m \u001b[0msessions\u001b[0m\u001b[1;33m.\u001b[0m\u001b[0mSession\u001b[0m\u001b[1;33m(\u001b[0m\u001b[1;33m)\u001b[0m \u001b[1;32mas\u001b[0m \u001b[0msession\u001b[0m\u001b[1;33m:\u001b[0m\u001b[1;33m\u001b[0m\u001b[1;33m\u001b[0m\u001b[0m\n\u001b[1;32m---> 60\u001b[1;33m         \u001b[1;32mreturn\u001b[0m \u001b[0msession\u001b[0m\u001b[1;33m.\u001b[0m\u001b[0mrequest\u001b[0m\u001b[1;33m(\u001b[0m\u001b[0mmethod\u001b[0m\u001b[1;33m=\u001b[0m\u001b[0mmethod\u001b[0m\u001b[1;33m,\u001b[0m \u001b[0murl\u001b[0m\u001b[1;33m=\u001b[0m\u001b[0murl\u001b[0m\u001b[1;33m,\u001b[0m \u001b[1;33m**\u001b[0m\u001b[0mkwargs\u001b[0m\u001b[1;33m)\u001b[0m\u001b[1;33m\u001b[0m\u001b[1;33m\u001b[0m\u001b[0m\n\u001b[0m\u001b[0;32m     61\u001b[0m \u001b[1;33m\u001b[0m\u001b[0m\n\u001b[0;32m     62\u001b[0m \u001b[1;33m\u001b[0m\u001b[0m\n",
      "\u001b[1;32m~\\anaconda3\\lib\\site-packages\\requests\\sessions.py\u001b[0m in \u001b[0;36mrequest\u001b[1;34m(self, method, url, params, data, headers, cookies, files, auth, timeout, allow_redirects, proxies, hooks, stream, verify, cert, json)\u001b[0m\n\u001b[0;32m    531\u001b[0m         }\n\u001b[0;32m    532\u001b[0m         \u001b[0msend_kwargs\u001b[0m\u001b[1;33m.\u001b[0m\u001b[0mupdate\u001b[0m\u001b[1;33m(\u001b[0m\u001b[0msettings\u001b[0m\u001b[1;33m)\u001b[0m\u001b[1;33m\u001b[0m\u001b[1;33m\u001b[0m\u001b[0m\n\u001b[1;32m--> 533\u001b[1;33m         \u001b[0mresp\u001b[0m \u001b[1;33m=\u001b[0m \u001b[0mself\u001b[0m\u001b[1;33m.\u001b[0m\u001b[0msend\u001b[0m\u001b[1;33m(\u001b[0m\u001b[0mprep\u001b[0m\u001b[1;33m,\u001b[0m \u001b[1;33m**\u001b[0m\u001b[0msend_kwargs\u001b[0m\u001b[1;33m)\u001b[0m\u001b[1;33m\u001b[0m\u001b[1;33m\u001b[0m\u001b[0m\n\u001b[0m\u001b[0;32m    534\u001b[0m \u001b[1;33m\u001b[0m\u001b[0m\n\u001b[0;32m    535\u001b[0m         \u001b[1;32mreturn\u001b[0m \u001b[0mresp\u001b[0m\u001b[1;33m\u001b[0m\u001b[1;33m\u001b[0m\u001b[0m\n",
      "\u001b[1;32m~\\anaconda3\\lib\\site-packages\\requests\\sessions.py\u001b[0m in \u001b[0;36msend\u001b[1;34m(self, request, **kwargs)\u001b[0m\n\u001b[0;32m    644\u001b[0m \u001b[1;33m\u001b[0m\u001b[0m\n\u001b[0;32m    645\u001b[0m         \u001b[1;31m# Send the request\u001b[0m\u001b[1;33m\u001b[0m\u001b[1;33m\u001b[0m\u001b[1;33m\u001b[0m\u001b[0m\n\u001b[1;32m--> 646\u001b[1;33m         \u001b[0mr\u001b[0m \u001b[1;33m=\u001b[0m \u001b[0madapter\u001b[0m\u001b[1;33m.\u001b[0m\u001b[0msend\u001b[0m\u001b[1;33m(\u001b[0m\u001b[0mrequest\u001b[0m\u001b[1;33m,\u001b[0m \u001b[1;33m**\u001b[0m\u001b[0mkwargs\u001b[0m\u001b[1;33m)\u001b[0m\u001b[1;33m\u001b[0m\u001b[1;33m\u001b[0m\u001b[0m\n\u001b[0m\u001b[0;32m    647\u001b[0m \u001b[1;33m\u001b[0m\u001b[0m\n\u001b[0;32m    648\u001b[0m         \u001b[1;31m# Total elapsed time of the request (approximately)\u001b[0m\u001b[1;33m\u001b[0m\u001b[1;33m\u001b[0m\u001b[1;33m\u001b[0m\u001b[0m\n",
      "\u001b[1;32m~\\anaconda3\\lib\\site-packages\\requests\\adapters.py\u001b[0m in \u001b[0;36msend\u001b[1;34m(self, request, stream, timeout, verify, cert, proxies)\u001b[0m\n\u001b[0;32m    447\u001b[0m                     \u001b[0mdecode_content\u001b[0m\u001b[1;33m=\u001b[0m\u001b[1;32mFalse\u001b[0m\u001b[1;33m,\u001b[0m\u001b[1;33m\u001b[0m\u001b[1;33m\u001b[0m\u001b[0m\n\u001b[0;32m    448\u001b[0m                     \u001b[0mretries\u001b[0m\u001b[1;33m=\u001b[0m\u001b[0mself\u001b[0m\u001b[1;33m.\u001b[0m\u001b[0mmax_retries\u001b[0m\u001b[1;33m,\u001b[0m\u001b[1;33m\u001b[0m\u001b[1;33m\u001b[0m\u001b[0m\n\u001b[1;32m--> 449\u001b[1;33m                     \u001b[0mtimeout\u001b[0m\u001b[1;33m=\u001b[0m\u001b[0mtimeout\u001b[0m\u001b[1;33m\u001b[0m\u001b[1;33m\u001b[0m\u001b[0m\n\u001b[0m\u001b[0;32m    450\u001b[0m                 )\n\u001b[0;32m    451\u001b[0m \u001b[1;33m\u001b[0m\u001b[0m\n",
      "\u001b[1;32m~\\anaconda3\\lib\\site-packages\\urllib3\\connectionpool.py\u001b[0m in \u001b[0;36murlopen\u001b[1;34m(self, method, url, body, headers, retries, redirect, assert_same_host, timeout, pool_timeout, release_conn, chunked, body_pos, **response_kw)\u001b[0m\n\u001b[0;32m    670\u001b[0m                 \u001b[0mbody\u001b[0m\u001b[1;33m=\u001b[0m\u001b[0mbody\u001b[0m\u001b[1;33m,\u001b[0m\u001b[1;33m\u001b[0m\u001b[1;33m\u001b[0m\u001b[0m\n\u001b[0;32m    671\u001b[0m                 \u001b[0mheaders\u001b[0m\u001b[1;33m=\u001b[0m\u001b[0mheaders\u001b[0m\u001b[1;33m,\u001b[0m\u001b[1;33m\u001b[0m\u001b[1;33m\u001b[0m\u001b[0m\n\u001b[1;32m--> 672\u001b[1;33m                 \u001b[0mchunked\u001b[0m\u001b[1;33m=\u001b[0m\u001b[0mchunked\u001b[0m\u001b[1;33m,\u001b[0m\u001b[1;33m\u001b[0m\u001b[1;33m\u001b[0m\u001b[0m\n\u001b[0m\u001b[0;32m    673\u001b[0m             )\n\u001b[0;32m    674\u001b[0m \u001b[1;33m\u001b[0m\u001b[0m\n",
      "\u001b[1;32m~\\anaconda3\\lib\\site-packages\\urllib3\\connectionpool.py\u001b[0m in \u001b[0;36m_make_request\u001b[1;34m(self, conn, method, url, timeout, chunked, **httplib_request_kw)\u001b[0m\n\u001b[0;32m    419\u001b[0m                     \u001b[1;31m# Python 3 (including for exceptions like SystemExit).\u001b[0m\u001b[1;33m\u001b[0m\u001b[1;33m\u001b[0m\u001b[1;33m\u001b[0m\u001b[0m\n\u001b[0;32m    420\u001b[0m                     \u001b[1;31m# Otherwise it looks like a bug in the code.\u001b[0m\u001b[1;33m\u001b[0m\u001b[1;33m\u001b[0m\u001b[1;33m\u001b[0m\u001b[0m\n\u001b[1;32m--> 421\u001b[1;33m                     \u001b[0msix\u001b[0m\u001b[1;33m.\u001b[0m\u001b[0mraise_from\u001b[0m\u001b[1;33m(\u001b[0m\u001b[0me\u001b[0m\u001b[1;33m,\u001b[0m \u001b[1;32mNone\u001b[0m\u001b[1;33m)\u001b[0m\u001b[1;33m\u001b[0m\u001b[1;33m\u001b[0m\u001b[0m\n\u001b[0m\u001b[0;32m    422\u001b[0m         \u001b[1;32mexcept\u001b[0m \u001b[1;33m(\u001b[0m\u001b[0mSocketTimeout\u001b[0m\u001b[1;33m,\u001b[0m \u001b[0mBaseSSLError\u001b[0m\u001b[1;33m,\u001b[0m \u001b[0mSocketError\u001b[0m\u001b[1;33m)\u001b[0m \u001b[1;32mas\u001b[0m \u001b[0me\u001b[0m\u001b[1;33m:\u001b[0m\u001b[1;33m\u001b[0m\u001b[1;33m\u001b[0m\u001b[0m\n\u001b[0;32m    423\u001b[0m             \u001b[0mself\u001b[0m\u001b[1;33m.\u001b[0m\u001b[0m_raise_timeout\u001b[0m\u001b[1;33m(\u001b[0m\u001b[0merr\u001b[0m\u001b[1;33m=\u001b[0m\u001b[0me\u001b[0m\u001b[1;33m,\u001b[0m \u001b[0murl\u001b[0m\u001b[1;33m=\u001b[0m\u001b[0murl\u001b[0m\u001b[1;33m,\u001b[0m \u001b[0mtimeout_value\u001b[0m\u001b[1;33m=\u001b[0m\u001b[0mread_timeout\u001b[0m\u001b[1;33m)\u001b[0m\u001b[1;33m\u001b[0m\u001b[1;33m\u001b[0m\u001b[0m\n",
      "\u001b[1;32m~\\anaconda3\\lib\\site-packages\\urllib3\\packages\\six.py\u001b[0m in \u001b[0;36mraise_from\u001b[1;34m(value, from_value)\u001b[0m\n",
      "\u001b[1;32m~\\anaconda3\\lib\\site-packages\\urllib3\\connectionpool.py\u001b[0m in \u001b[0;36m_make_request\u001b[1;34m(self, conn, method, url, timeout, chunked, **httplib_request_kw)\u001b[0m\n\u001b[0;32m    414\u001b[0m                 \u001b[1;31m# Python 3\u001b[0m\u001b[1;33m\u001b[0m\u001b[1;33m\u001b[0m\u001b[1;33m\u001b[0m\u001b[0m\n\u001b[0;32m    415\u001b[0m                 \u001b[1;32mtry\u001b[0m\u001b[1;33m:\u001b[0m\u001b[1;33m\u001b[0m\u001b[1;33m\u001b[0m\u001b[0m\n\u001b[1;32m--> 416\u001b[1;33m                     \u001b[0mhttplib_response\u001b[0m \u001b[1;33m=\u001b[0m \u001b[0mconn\u001b[0m\u001b[1;33m.\u001b[0m\u001b[0mgetresponse\u001b[0m\u001b[1;33m(\u001b[0m\u001b[1;33m)\u001b[0m\u001b[1;33m\u001b[0m\u001b[1;33m\u001b[0m\u001b[0m\n\u001b[0m\u001b[0;32m    417\u001b[0m                 \u001b[1;32mexcept\u001b[0m \u001b[0mBaseException\u001b[0m \u001b[1;32mas\u001b[0m \u001b[0me\u001b[0m\u001b[1;33m:\u001b[0m\u001b[1;33m\u001b[0m\u001b[1;33m\u001b[0m\u001b[0m\n\u001b[0;32m    418\u001b[0m                     \u001b[1;31m# Remove the TypeError from the exception chain in\u001b[0m\u001b[1;33m\u001b[0m\u001b[1;33m\u001b[0m\u001b[1;33m\u001b[0m\u001b[0m\n",
      "\u001b[1;32m~\\anaconda3\\lib\\http\\client.py\u001b[0m in \u001b[0;36mgetresponse\u001b[1;34m(self)\u001b[0m\n\u001b[0;32m   1342\u001b[0m         \u001b[1;32mtry\u001b[0m\u001b[1;33m:\u001b[0m\u001b[1;33m\u001b[0m\u001b[1;33m\u001b[0m\u001b[0m\n\u001b[0;32m   1343\u001b[0m             \u001b[1;32mtry\u001b[0m\u001b[1;33m:\u001b[0m\u001b[1;33m\u001b[0m\u001b[1;33m\u001b[0m\u001b[0m\n\u001b[1;32m-> 1344\u001b[1;33m                 \u001b[0mresponse\u001b[0m\u001b[1;33m.\u001b[0m\u001b[0mbegin\u001b[0m\u001b[1;33m(\u001b[0m\u001b[1;33m)\u001b[0m\u001b[1;33m\u001b[0m\u001b[1;33m\u001b[0m\u001b[0m\n\u001b[0m\u001b[0;32m   1345\u001b[0m             \u001b[1;32mexcept\u001b[0m \u001b[0mConnectionError\u001b[0m\u001b[1;33m:\u001b[0m\u001b[1;33m\u001b[0m\u001b[1;33m\u001b[0m\u001b[0m\n\u001b[0;32m   1346\u001b[0m                 \u001b[0mself\u001b[0m\u001b[1;33m.\u001b[0m\u001b[0mclose\u001b[0m\u001b[1;33m(\u001b[0m\u001b[1;33m)\u001b[0m\u001b[1;33m\u001b[0m\u001b[1;33m\u001b[0m\u001b[0m\n",
      "\u001b[1;32m~\\anaconda3\\lib\\http\\client.py\u001b[0m in \u001b[0;36mbegin\u001b[1;34m(self)\u001b[0m\n\u001b[0;32m    304\u001b[0m         \u001b[1;31m# read until we get a non-100 response\u001b[0m\u001b[1;33m\u001b[0m\u001b[1;33m\u001b[0m\u001b[1;33m\u001b[0m\u001b[0m\n\u001b[0;32m    305\u001b[0m         \u001b[1;32mwhile\u001b[0m \u001b[1;32mTrue\u001b[0m\u001b[1;33m:\u001b[0m\u001b[1;33m\u001b[0m\u001b[1;33m\u001b[0m\u001b[0m\n\u001b[1;32m--> 306\u001b[1;33m             \u001b[0mversion\u001b[0m\u001b[1;33m,\u001b[0m \u001b[0mstatus\u001b[0m\u001b[1;33m,\u001b[0m \u001b[0mreason\u001b[0m \u001b[1;33m=\u001b[0m \u001b[0mself\u001b[0m\u001b[1;33m.\u001b[0m\u001b[0m_read_status\u001b[0m\u001b[1;33m(\u001b[0m\u001b[1;33m)\u001b[0m\u001b[1;33m\u001b[0m\u001b[1;33m\u001b[0m\u001b[0m\n\u001b[0m\u001b[0;32m    307\u001b[0m             \u001b[1;32mif\u001b[0m \u001b[0mstatus\u001b[0m \u001b[1;33m!=\u001b[0m \u001b[0mCONTINUE\u001b[0m\u001b[1;33m:\u001b[0m\u001b[1;33m\u001b[0m\u001b[1;33m\u001b[0m\u001b[0m\n\u001b[0;32m    308\u001b[0m                 \u001b[1;32mbreak\u001b[0m\u001b[1;33m\u001b[0m\u001b[1;33m\u001b[0m\u001b[0m\n",
      "\u001b[1;32m~\\anaconda3\\lib\\http\\client.py\u001b[0m in \u001b[0;36m_read_status\u001b[1;34m(self)\u001b[0m\n\u001b[0;32m    265\u001b[0m \u001b[1;33m\u001b[0m\u001b[0m\n\u001b[0;32m    266\u001b[0m     \u001b[1;32mdef\u001b[0m \u001b[0m_read_status\u001b[0m\u001b[1;33m(\u001b[0m\u001b[0mself\u001b[0m\u001b[1;33m)\u001b[0m\u001b[1;33m:\u001b[0m\u001b[1;33m\u001b[0m\u001b[1;33m\u001b[0m\u001b[0m\n\u001b[1;32m--> 267\u001b[1;33m         \u001b[0mline\u001b[0m \u001b[1;33m=\u001b[0m \u001b[0mstr\u001b[0m\u001b[1;33m(\u001b[0m\u001b[0mself\u001b[0m\u001b[1;33m.\u001b[0m\u001b[0mfp\u001b[0m\u001b[1;33m.\u001b[0m\u001b[0mreadline\u001b[0m\u001b[1;33m(\u001b[0m\u001b[0m_MAXLINE\u001b[0m \u001b[1;33m+\u001b[0m \u001b[1;36m1\u001b[0m\u001b[1;33m)\u001b[0m\u001b[1;33m,\u001b[0m \u001b[1;34m\"iso-8859-1\"\u001b[0m\u001b[1;33m)\u001b[0m\u001b[1;33m\u001b[0m\u001b[1;33m\u001b[0m\u001b[0m\n\u001b[0m\u001b[0;32m    268\u001b[0m         \u001b[1;32mif\u001b[0m \u001b[0mlen\u001b[0m\u001b[1;33m(\u001b[0m\u001b[0mline\u001b[0m\u001b[1;33m)\u001b[0m \u001b[1;33m>\u001b[0m \u001b[0m_MAXLINE\u001b[0m\u001b[1;33m:\u001b[0m\u001b[1;33m\u001b[0m\u001b[1;33m\u001b[0m\u001b[0m\n\u001b[0;32m    269\u001b[0m             \u001b[1;32mraise\u001b[0m \u001b[0mLineTooLong\u001b[0m\u001b[1;33m(\u001b[0m\u001b[1;34m\"status line\"\u001b[0m\u001b[1;33m)\u001b[0m\u001b[1;33m\u001b[0m\u001b[1;33m\u001b[0m\u001b[0m\n",
      "\u001b[1;32m~\\anaconda3\\lib\\socket.py\u001b[0m in \u001b[0;36mreadinto\u001b[1;34m(self, b)\u001b[0m\n\u001b[0;32m    587\u001b[0m         \u001b[1;32mwhile\u001b[0m \u001b[1;32mTrue\u001b[0m\u001b[1;33m:\u001b[0m\u001b[1;33m\u001b[0m\u001b[1;33m\u001b[0m\u001b[0m\n\u001b[0;32m    588\u001b[0m             \u001b[1;32mtry\u001b[0m\u001b[1;33m:\u001b[0m\u001b[1;33m\u001b[0m\u001b[1;33m\u001b[0m\u001b[0m\n\u001b[1;32m--> 589\u001b[1;33m                 \u001b[1;32mreturn\u001b[0m \u001b[0mself\u001b[0m\u001b[1;33m.\u001b[0m\u001b[0m_sock\u001b[0m\u001b[1;33m.\u001b[0m\u001b[0mrecv_into\u001b[0m\u001b[1;33m(\u001b[0m\u001b[0mb\u001b[0m\u001b[1;33m)\u001b[0m\u001b[1;33m\u001b[0m\u001b[1;33m\u001b[0m\u001b[0m\n\u001b[0m\u001b[0;32m    590\u001b[0m             \u001b[1;32mexcept\u001b[0m \u001b[0mtimeout\u001b[0m\u001b[1;33m:\u001b[0m\u001b[1;33m\u001b[0m\u001b[1;33m\u001b[0m\u001b[0m\n\u001b[0;32m    591\u001b[0m                 \u001b[0mself\u001b[0m\u001b[1;33m.\u001b[0m\u001b[0m_timeout_occurred\u001b[0m \u001b[1;33m=\u001b[0m \u001b[1;32mTrue\u001b[0m\u001b[1;33m\u001b[0m\u001b[1;33m\u001b[0m\u001b[0m\n",
      "\u001b[1;31mKeyboardInterrupt\u001b[0m: "
     ]
    }
   ],
   "source": [
    "\n",
    "\n",
    "news_list = []\n",
    "\n",
    "for i in range(1,200):\n",
    "    response = requests.get('http://it.chosun.com/svc/list_in/search.html?query=%EC%9D%B8%EA%B3%B5%EC%A7%80%EB%8A%A5&sort=regdate&pn='+str(i))\n",
    "    soup = BeautifulSoup(response.text, 'html.parser')\n",
    "    title = soup.select('.txt_dot1') #.get_text()\n",
    "    href_link = soup.select('.txt_wrap > a')\n",
    "    date = soup.select('.date')\n",
    "\n",
    "\n",
    "    for one in range(10) :\n",
    "        title_one=title[one].get_text()\n",
    "        href_link_one=href_link[one]['href']#.get_text())\n",
    "        date_one = date[one].get_text()\n",
    "        news_list.append([href_link_one, title_one, date_one])\n"
   ]
  },
  {
   "cell_type": "code",
   "execution_count": 2,
   "metadata": {},
   "outputs": [],
   "source": [
    "    \n",
    "news_list=pd.DataFrame(news_list, columns = ['link','title','date'])\n"
   ]
  },
  {
   "source": [
    "2. 뉴스 기사 내용 및 태그"
   ],
   "cell_type": "markdown",
   "metadata": {}
  },
  {
   "cell_type": "code",
   "execution_count": 22,
   "metadata": {
    "tags": []
   },
   "outputs": [
    {
     "output_type": "execute_result",
     "data": {
      "text/plain": "                                                   link  \\\n0     http://it.chosun.com/site/data/html_dir/2020/0...   \n1     http://it.chosun.com/site/data/html_dir/2020/0...   \n2     http://it.chosun.com/site/data/html_dir/2020/0...   \n3     http://it.chosun.com/site/data/html_dir/2020/0...   \n4     http://it.chosun.com/site/data/html_dir/2020/0...   \n...                                                 ...   \n1985  http://it.chosun.com/site/data/html_dir/2019/0...   \n1986  http://it.chosun.com/site/data/html_dir/2019/0...   \n1987  http://it.chosun.com/site/data/html_dir/2019/0...   \n1988  http://it.chosun.com/site/data/html_dir/2019/0...   \n1989  http://it.chosun.com/site/data/html_dir/2019/0...   \n\n                                                content  \\\n0     [[LG가 친환경 촉매, 차세대 소재 등 화학소재 개발 분야에서 인공지능(AI)와 ...   \n1     [[현대자동차가 인공지능 기반 통합 모빌리티 서비스 고도화를 추진한다. 단순 제조업...   \n2     [[[주제로, 소품으로, 때로는 양념으로. 최신 및 흥행 영화에 등장한 ICT와 배...   \n3     [[2020년 9월 7일부터 9월 11일까지 한 주간 IT조선에서 가장 화제가 됐던...   \n4     [[클라우드 관리 기업, [(MSP)],  메가존 클라우드가 인공지능, [(AI)]...   \n...                                                 ...   \n1985  [[중국이 미국 기술 리더십에 도전하는 과정에서 끊임없이 논란을 빚는다. 정신없이 ...   \n1986  [[코닥은 디지털 카메라 시장 선구자다. 누구도 코닥의 실패는 예견하지 않았다. 하...   \n1987  [[KT가 50억원을 투자해 빅데이터 기반 차세대 외부 통신시설(OSP) 관리시스템...   \n1988  [[인텔이 독일 베를린에서 열리는 IFA 2019에서 자사의 ‘10세대 코어 프로세...   \n1989  [[[고성능 NPU 탑재로 AI 연산 속도 약 2.7배 향상], [], [], 삼성...   \n\n                                                    tag  \\\n0                         lg사이언스파크,화학소재,인공지능,ai,a3md,토탈   \n1                             자동차,국산차,현대자동차,컨소시엄,스마트챌린지   \n2     영화,테크,기술,ict,인공지능,ai,가상현실,vr,로봇,칩,인공두뇌,증강현실,바이...   \n3                              IT조선, itchosun, IT조선, 일반   \n4                  메가존클라우드,메가존,그래프코어,이주완,자연어처리,컴퓨터비전,ai   \n...                                                 ...   \n1985                    중국,자오,딥페이크,감시,통제,위구르족,아이폰해킹,멀웨어   \n1986                               실패박물관,사무엘웨스트,스타트업,혁신   \n1987                   아타카마,차세대osp관리시스템,kt,5g,사파이어,아현화재   \n1988      인텔,ifa2019,10세대프로세서,아테나프로젝트,오픈랩,노트북,2in1,pc혁신   \n1989                         삼성전자,엑시노스980,5g통합칩,온디바이스ai   \n\n                                               category  \n0           LG, AI로 차세대 화학소재 개발 나선다 - IT조선 > 기술 > 과학·기술  \n1     현대차·인천시, 국토부 ‘스마트시티 챌린지 사업’ 협약 맺어 - IT조선 > 자동차...  \n2     [차주경의 테크&영화] 그러게 고독이 무섭다니까, 패신저스(Passengers, 2...  \n3     [주간 테크 뉴스] 넥슨, 부당한 방법으로 단숨에 던파 1위 등극 의혹 - IT조선...  \n4     메가존 클라우드, AI 유니콘 '그래프코어'와 총판 계약 체결 - IT조선 > 기업...  \n...                                                 ...  \n1985  '눈 가리고 달리는' 중국 기술개발, 개인정보·인권 무시에 사회 감시까지 - IT조...  \n1986  코닥은 ‘폭망’ 인스타는 '대박'…“창의적인건 실패 가능성 높지만 끝까지 밀어부쳐야...  \n1987    KT, 관리시스템 ‘아타카마’로 글로벌 시장 도전 - IT조선 > 기업 > 방송·통신  \n1988  인텔, IFA서 '10세대' 노트북 대거 공개…차세대 노트북 비전 제시한다 - IT...  \n1989  삼성전자, 5G 통합 모바일 AP 프로세서 내놨다 - IT조선 > 기업 > PC·가...  \n\n[1990 rows x 4 columns]",
      "text/html": "<div>\n<style scoped>\n    .dataframe tbody tr th:only-of-type {\n        vertical-align: middle;\n    }\n\n    .dataframe tbody tr th {\n        vertical-align: top;\n    }\n\n    .dataframe thead th {\n        text-align: right;\n    }\n</style>\n<table border=\"1\" class=\"dataframe\">\n  <thead>\n    <tr style=\"text-align: right;\">\n      <th></th>\n      <th>link</th>\n      <th>content</th>\n      <th>tag</th>\n      <th>category</th>\n    </tr>\n  </thead>\n  <tbody>\n    <tr>\n      <th>0</th>\n      <td>http://it.chosun.com/site/data/html_dir/2020/0...</td>\n      <td>[[LG가 친환경 촉매, 차세대 소재 등 화학소재 개발 분야에서 인공지능(AI)와 ...</td>\n      <td>lg사이언스파크,화학소재,인공지능,ai,a3md,토탈</td>\n      <td>LG, AI로 차세대 화학소재 개발 나선다 - IT조선 &gt; 기술 &gt; 과학·기술</td>\n    </tr>\n    <tr>\n      <th>1</th>\n      <td>http://it.chosun.com/site/data/html_dir/2020/0...</td>\n      <td>[[현대자동차가 인공지능 기반 통합 모빌리티 서비스 고도화를 추진한다. 단순 제조업...</td>\n      <td>자동차,국산차,현대자동차,컨소시엄,스마트챌린지</td>\n      <td>현대차·인천시, 국토부 ‘스마트시티 챌린지 사업’ 협약 맺어 - IT조선 &gt; 자동차...</td>\n    </tr>\n    <tr>\n      <th>2</th>\n      <td>http://it.chosun.com/site/data/html_dir/2020/0...</td>\n      <td>[[[주제로, 소품으로, 때로는 양념으로. 최신 및 흥행 영화에 등장한 ICT와 배...</td>\n      <td>영화,테크,기술,ict,인공지능,ai,가상현실,vr,로봇,칩,인공두뇌,증강현실,바이...</td>\n      <td>[차주경의 테크&amp;영화] 그러게 고독이 무섭다니까, 패신저스(Passengers, 2...</td>\n    </tr>\n    <tr>\n      <th>3</th>\n      <td>http://it.chosun.com/site/data/html_dir/2020/0...</td>\n      <td>[[2020년 9월 7일부터 9월 11일까지 한 주간 IT조선에서 가장 화제가 됐던...</td>\n      <td>IT조선, itchosun, IT조선, 일반</td>\n      <td>[주간 테크 뉴스] 넥슨, 부당한 방법으로 단숨에 던파 1위 등극 의혹 - IT조선...</td>\n    </tr>\n    <tr>\n      <th>4</th>\n      <td>http://it.chosun.com/site/data/html_dir/2020/0...</td>\n      <td>[[클라우드 관리 기업, [(MSP)],  메가존 클라우드가 인공지능, [(AI)]...</td>\n      <td>메가존클라우드,메가존,그래프코어,이주완,자연어처리,컴퓨터비전,ai</td>\n      <td>메가존 클라우드, AI 유니콘 '그래프코어'와 총판 계약 체결 - IT조선 &gt; 기업...</td>\n    </tr>\n    <tr>\n      <th>...</th>\n      <td>...</td>\n      <td>...</td>\n      <td>...</td>\n      <td>...</td>\n    </tr>\n    <tr>\n      <th>1985</th>\n      <td>http://it.chosun.com/site/data/html_dir/2019/0...</td>\n      <td>[[중국이 미국 기술 리더십에 도전하는 과정에서 끊임없이 논란을 빚는다. 정신없이 ...</td>\n      <td>중국,자오,딥페이크,감시,통제,위구르족,아이폰해킹,멀웨어</td>\n      <td>'눈 가리고 달리는' 중국 기술개발, 개인정보·인권 무시에 사회 감시까지 - IT조...</td>\n    </tr>\n    <tr>\n      <th>1986</th>\n      <td>http://it.chosun.com/site/data/html_dir/2019/0...</td>\n      <td>[[코닥은 디지털 카메라 시장 선구자다. 누구도 코닥의 실패는 예견하지 않았다. 하...</td>\n      <td>실패박물관,사무엘웨스트,스타트업,혁신</td>\n      <td>코닥은 ‘폭망’ 인스타는 '대박'…“창의적인건 실패 가능성 높지만 끝까지 밀어부쳐야...</td>\n    </tr>\n    <tr>\n      <th>1987</th>\n      <td>http://it.chosun.com/site/data/html_dir/2019/0...</td>\n      <td>[[KT가 50억원을 투자해 빅데이터 기반 차세대 외부 통신시설(OSP) 관리시스템...</td>\n      <td>아타카마,차세대osp관리시스템,kt,5g,사파이어,아현화재</td>\n      <td>KT, 관리시스템 ‘아타카마’로 글로벌 시장 도전 - IT조선 &gt; 기업 &gt; 방송·통신</td>\n    </tr>\n    <tr>\n      <th>1988</th>\n      <td>http://it.chosun.com/site/data/html_dir/2019/0...</td>\n      <td>[[인텔이 독일 베를린에서 열리는 IFA 2019에서 자사의 ‘10세대 코어 프로세...</td>\n      <td>인텔,ifa2019,10세대프로세서,아테나프로젝트,오픈랩,노트북,2in1,pc혁신</td>\n      <td>인텔, IFA서 '10세대' 노트북 대거 공개…차세대 노트북 비전 제시한다 - IT...</td>\n    </tr>\n    <tr>\n      <th>1989</th>\n      <td>http://it.chosun.com/site/data/html_dir/2019/0...</td>\n      <td>[[[고성능 NPU 탑재로 AI 연산 속도 약 2.7배 향상], [], [], 삼성...</td>\n      <td>삼성전자,엑시노스980,5g통합칩,온디바이스ai</td>\n      <td>삼성전자, 5G 통합 모바일 AP 프로세서 내놨다 - IT조선 &gt; 기업 &gt; PC·가...</td>\n    </tr>\n  </tbody>\n</table>\n<p>1990 rows × 4 columns</p>\n</div>"
     },
     "metadata": {},
     "execution_count": 22
    }
   ],
   "source": [
    "news_content = []\n",
    "\n",
    "for news in news_list.link :\n",
    "    response = requests.get(news)\n",
    "    soup = BeautifulSoup(response.text, 'html.parser')\n",
    "    content = soup.select('.par') #.get_text()\n",
    "    tag = soup.head.find(\"meta\", {\"name\":\"news_keywords\"}).get('content')\n",
    "    category =  soup.select_one('title').get_text()\n",
    "    news_content.append([news, content,tag,category])\n",
    "\n",
    "news_content=pd.DataFrame(news_content, columns = ['link','content','tag','category'])\n",
    "news_content\n",
    "\n"
   ]
  },
  {
   "cell_type": "code",
   "execution_count": 118,
   "metadata": {},
   "outputs": [],
   "source": [
    "# news_content.to_csv('ITchosun_list.csv',index=False)\n"
   ]
  },
  {
   "cell_type": "code",
   "execution_count": 43,
   "metadata": {},
   "outputs": [],
   "source": [
    "for i in range(len(news_list)) :\n",
    "    category_name =news_content.category[i].split('- IT조선 > ')[1].split(' > ')\n",
    "    big_category =category_name[0]\n",
    "    news_content['big_category'][i]= big_category\n",
    "    try :\n",
    "        small_category =category_name[1]\n",
    "        news_content['small_category'][i] = small_category\n",
    "    except IndexError :\n",
    "        small_category = np.nan\n",
    "        news_content['small_category'][i] = small_category\n"
   ]
  },
  {
   "cell_type": "code",
   "execution_count": 46,
   "metadata": {},
   "outputs": [
    {
     "output_type": "error",
     "ename": "KeyError",
     "evalue": "'category'",
     "traceback": [
      "\u001b[1;31m---------------------------------------------------------------------------\u001b[0m",
      "\u001b[1;31mKeyError\u001b[0m                                  Traceback (most recent call last)",
      "\u001b[1;32m~\\anaconda3\\lib\\site-packages\\pandas\\core\\indexes\\base.py\u001b[0m in \u001b[0;36mget_loc\u001b[1;34m(self, key, method, tolerance)\u001b[0m\n\u001b[0;32m   2888\u001b[0m             \u001b[1;32mtry\u001b[0m\u001b[1;33m:\u001b[0m\u001b[1;33m\u001b[0m\u001b[1;33m\u001b[0m\u001b[0m\n\u001b[1;32m-> 2889\u001b[1;33m                 \u001b[1;32mreturn\u001b[0m \u001b[0mself\u001b[0m\u001b[1;33m.\u001b[0m\u001b[0m_engine\u001b[0m\u001b[1;33m.\u001b[0m\u001b[0mget_loc\u001b[0m\u001b[1;33m(\u001b[0m\u001b[0mcasted_key\u001b[0m\u001b[1;33m)\u001b[0m\u001b[1;33m\u001b[0m\u001b[1;33m\u001b[0m\u001b[0m\n\u001b[0m\u001b[0;32m   2890\u001b[0m             \u001b[1;32mexcept\u001b[0m \u001b[0mKeyError\u001b[0m \u001b[1;32mas\u001b[0m \u001b[0merr\u001b[0m\u001b[1;33m:\u001b[0m\u001b[1;33m\u001b[0m\u001b[1;33m\u001b[0m\u001b[0m\n",
      "\u001b[1;32mpandas\\_libs\\index.pyx\u001b[0m in \u001b[0;36mpandas._libs.index.IndexEngine.get_loc\u001b[1;34m()\u001b[0m\n",
      "\u001b[1;32mpandas\\_libs\\index.pyx\u001b[0m in \u001b[0;36mpandas._libs.index.IndexEngine.get_loc\u001b[1;34m()\u001b[0m\n",
      "\u001b[1;32mpandas\\_libs\\hashtable_class_helper.pxi\u001b[0m in \u001b[0;36mpandas._libs.hashtable.PyObjectHashTable.get_item\u001b[1;34m()\u001b[0m\n",
      "\u001b[1;32mpandas\\_libs\\hashtable_class_helper.pxi\u001b[0m in \u001b[0;36mpandas._libs.hashtable.PyObjectHashTable.get_item\u001b[1;34m()\u001b[0m\n",
      "\u001b[1;31mKeyError\u001b[0m: 'category'",
      "\nThe above exception was the direct cause of the following exception:\n",
      "\u001b[1;31mKeyError\u001b[0m                                  Traceback (most recent call last)",
      "\u001b[1;32m<ipython-input-46-6e02d3a4b90a>\u001b[0m in \u001b[0;36m<module>\u001b[1;34m\u001b[0m\n\u001b[1;32m----> 1\u001b[1;33m \u001b[1;32mdel\u001b[0m \u001b[0mnews_content\u001b[0m\u001b[1;33m[\u001b[0m\u001b[1;34m'category'\u001b[0m\u001b[1;33m]\u001b[0m\u001b[1;33m\u001b[0m\u001b[1;33m\u001b[0m\u001b[0m\n\u001b[0m\u001b[0;32m      2\u001b[0m \u001b[0mnews_content\u001b[0m\u001b[1;33m\u001b[0m\u001b[1;33m\u001b[0m\u001b[0m\n",
      "\u001b[1;32m~\\anaconda3\\lib\\site-packages\\pandas\\core\\generic.py\u001b[0m in \u001b[0;36m__delitem__\u001b[1;34m(self, key)\u001b[0m\n\u001b[0;32m   3700\u001b[0m             \u001b[1;31m# there was no match, this call should raise the appropriate\u001b[0m\u001b[1;33m\u001b[0m\u001b[1;33m\u001b[0m\u001b[1;33m\u001b[0m\u001b[0m\n\u001b[0;32m   3701\u001b[0m             \u001b[1;31m# exception:\u001b[0m\u001b[1;33m\u001b[0m\u001b[1;33m\u001b[0m\u001b[1;33m\u001b[0m\u001b[0m\n\u001b[1;32m-> 3702\u001b[1;33m             \u001b[0mloc\u001b[0m \u001b[1;33m=\u001b[0m \u001b[0mself\u001b[0m\u001b[1;33m.\u001b[0m\u001b[0maxes\u001b[0m\u001b[1;33m[\u001b[0m\u001b[1;33m-\u001b[0m\u001b[1;36m1\u001b[0m\u001b[1;33m]\u001b[0m\u001b[1;33m.\u001b[0m\u001b[0mget_loc\u001b[0m\u001b[1;33m(\u001b[0m\u001b[0mkey\u001b[0m\u001b[1;33m)\u001b[0m\u001b[1;33m\u001b[0m\u001b[1;33m\u001b[0m\u001b[0m\n\u001b[0m\u001b[0;32m   3703\u001b[0m             \u001b[0mself\u001b[0m\u001b[1;33m.\u001b[0m\u001b[0m_mgr\u001b[0m\u001b[1;33m.\u001b[0m\u001b[0midelete\u001b[0m\u001b[1;33m(\u001b[0m\u001b[0mloc\u001b[0m\u001b[1;33m)\u001b[0m\u001b[1;33m\u001b[0m\u001b[1;33m\u001b[0m\u001b[0m\n\u001b[0;32m   3704\u001b[0m \u001b[1;33m\u001b[0m\u001b[0m\n",
      "\u001b[1;32m~\\anaconda3\\lib\\site-packages\\pandas\\core\\indexes\\base.py\u001b[0m in \u001b[0;36mget_loc\u001b[1;34m(self, key, method, tolerance)\u001b[0m\n\u001b[0;32m   2889\u001b[0m                 \u001b[1;32mreturn\u001b[0m \u001b[0mself\u001b[0m\u001b[1;33m.\u001b[0m\u001b[0m_engine\u001b[0m\u001b[1;33m.\u001b[0m\u001b[0mget_loc\u001b[0m\u001b[1;33m(\u001b[0m\u001b[0mcasted_key\u001b[0m\u001b[1;33m)\u001b[0m\u001b[1;33m\u001b[0m\u001b[1;33m\u001b[0m\u001b[0m\n\u001b[0;32m   2890\u001b[0m             \u001b[1;32mexcept\u001b[0m \u001b[0mKeyError\u001b[0m \u001b[1;32mas\u001b[0m \u001b[0merr\u001b[0m\u001b[1;33m:\u001b[0m\u001b[1;33m\u001b[0m\u001b[1;33m\u001b[0m\u001b[0m\n\u001b[1;32m-> 2891\u001b[1;33m                 \u001b[1;32mraise\u001b[0m \u001b[0mKeyError\u001b[0m\u001b[1;33m(\u001b[0m\u001b[0mkey\u001b[0m\u001b[1;33m)\u001b[0m \u001b[1;32mfrom\u001b[0m \u001b[0merr\u001b[0m\u001b[1;33m\u001b[0m\u001b[1;33m\u001b[0m\u001b[0m\n\u001b[0m\u001b[0;32m   2892\u001b[0m \u001b[1;33m\u001b[0m\u001b[0m\n\u001b[0;32m   2893\u001b[0m         \u001b[1;32mif\u001b[0m \u001b[0mtolerance\u001b[0m \u001b[1;32mis\u001b[0m \u001b[1;32mnot\u001b[0m \u001b[1;32mNone\u001b[0m\u001b[1;33m:\u001b[0m\u001b[1;33m\u001b[0m\u001b[1;33m\u001b[0m\u001b[0m\n",
      "\u001b[1;31mKeyError\u001b[0m: 'category'"
     ]
    }
   ],
   "source": [
    "del news_content['category']\n",
    "news_content"
   ]
  },
  {
   "cell_type": "code",
   "execution_count": 48,
   "metadata": {},
   "outputs": [],
   "source": [
    "total_news_data=pd.merge(news_list,news_content,on='link')"
   ]
  },
  {
   "cell_type": "code",
   "execution_count": 117,
   "metadata": {},
   "outputs": [],
   "source": [
    "total_news_data.to_csv('ITchosun_content.csv',index=False)"
   ]
  },
  {
   "cell_type": "code",
   "execution_count": 56,
   "metadata": {},
   "outputs": [
    {
     "output_type": "execute_result",
     "data": {
      "text/plain": "컴퓨팅·IT서비스     459\n일반            282\nPC·가전·모바일     245\n방송·통신         149\n중기·벤처         112\n게임·인터넷        105\n금융·핀테크         79\n외부 칼럼          63\n헬스케어·바이오       61\n미디어·엔터테인먼트     53\n과학·기술          49\n외신             49\n뉴스종합           40\n반도체·디스플레이      38\n인터뷰            35\n유통·쇼핑          34\n기자수첩·해설        33\n로봇·드론·VR       21\n보안             18\n산업일반           15\n인사·부음          12\n키덜트·키즈          6\n중공업             5\n신차              4\n시승기             2\n알립니다            2\nName: small_category, dtype: int64"
     },
     "metadata": {},
     "execution_count": 56
    }
   ],
   "source": [
    "total_news_data.small_category.value_counts()"
   ]
  },
  {
   "source": [
    "# AI타임즈"
   ],
   "cell_type": "markdown",
   "metadata": {}
  },
  {
   "cell_type": "code",
   "execution_count": 27,
   "metadata": {
    "tags": []
   },
   "outputs": [],
   "source": [
    "times_news_list = []\n",
    "\n",
    "for i in range(1,7): #8이상 페이지 로드 불가 120개\n",
    "    response = requests.get('http://www.aitimes.com/news/articleList.html?page='+str(i)+'&total=79307&box_idxno=&sc_section_code=&sc_sub_section_code=&sc_serial_code=&sc_area=A&sc_level=&sc_article_type=&sc_view_level=&sc_sdate=&sc_edate=&sc_serial_number=&sc_word=ai&sc_multi_code=&sc_is_image=&sc_is_movie=&sc_order_by=E')\n",
    "    soup = BeautifulSoup(response.text, 'html.parser')\n",
    "    big_category = soup.select('.list-section')#.get_text()\n",
    "    href_link = soup.select('a.links')\n",
    "    title = soup.select('a.links > strong')\n",
    "    date = soup.select('.list-dated.table-cell')\n",
    "\n",
    "    for one in range(20) :\n",
    "        title_one=title[one].get_text()\n",
    "        link_one=href_link[one]['href']#.get_text())\n",
    "        href_link_one = 'http://www.aitimes.com'+link_one\n",
    "        big_category_one = big_category[one].get_text()\n",
    "        date1= date[one].get_text()\n",
    "        date_one=date1.split(' | ')[1]\n",
    "        times_news_list.append([href_link_one, title_one, date_one, big_category_one])\n"
   ]
  },
  {
   "cell_type": "code",
   "execution_count": 28,
   "metadata": {},
   "outputs": [],
   "source": [
    "times=pd.DataFrame(times_news_list,columns = ['link','title','date','big_category'])\n",
    "times.to_csv('AItimes_list.csv',index=False)"
   ]
  },
  {
   "cell_type": "code",
   "execution_count": 5,
   "metadata": {},
   "outputs": [],
   "source": [
    "times = pd.read_csv('AItimes_list.csv')\n",
    "import time\n",
    "import random"
   ]
  },
  {
   "cell_type": "code",
   "execution_count": 6,
   "metadata": {},
   "outputs": [
    {
     "output_type": "execute_result",
     "data": {
      "text/plain": "                                                  link  \\\n0    http://www.aitimes.com/news/articleView.html?i...   \n1    http://www.aitimes.com/news/articleView.html?i...   \n2    http://www.aitimes.com/news/articleView.html?i...   \n3    http://www.aitimes.com/news/articleView.html?i...   \n4    http://www.aitimes.com/news/articleView.html?i...   \n..                                                 ...   \n115  http://www.aitimes.com/news/articleView.html?i...   \n116  http://www.aitimes.com/news/articleView.html?i...   \n117  http://www.aitimes.com/news/articleView.html?i...   \n118  http://www.aitimes.com/news/articleView.html?i...   \n119  http://www.aitimes.com/news/articleView.html?i...   \n\n                                                 title              date  \\\n0               엔비디아, ARM 인수 '확정'…젠슨 황, \"AI 시대를 위한 결정\"  2020-09-14 09:51   \n1                                광주·전남 행정 통합 논의 시동 걸었다  2020-09-14 09:20   \n2    [Monday News] 'AI 중심도시 광주' 이것이 풀어야 할 과제다 ④ 광주 ...  2020-09-13 23:35   \n3                   인체에 유해한 전자파?…국립전파연구원, '팩트체크' 자리 마련  2020-09-13 16:24   \n4                      삼성전기, 초소형 파워인덕터 개발…엣지 AI 소형화 가속  2020-09-13 16:24   \n..                                                 ...               ...   \n115                     국내 주도 ICT 보안 표준안 8건 '국제 표준' 채택  2020-09-03 14:52   \n116                   로봇견 ‘스폿’, 코로나19 최전방서 의료진 도와 활약할까  2020-09-03 14:42   \n117       산업부, AI 반도체 상용화 위한 기술 개발 추진… 미래차ㆍIoT 등에 적용한다  2020-09-03 14:41   \n118               한국인공지능학회, '2020년 하계학술대회' 열어 AI 연구 조망  2020-09-03 14:03   \n119                 \"턱스크 잡는다\"...LG U+, ‘AIㆍ5G 방역로봇’ 개발  2020-09-03 13:58   \n\n    big_category  \n0      [AI & 산업]  \n1           [호남]  \n2           [호남]  \n3      [AI & 정책]  \n4    [AI & Tech]  \n..           ...  \n115    [AI & 정책]  \n116  [AI & Tech]  \n117    [AI & 정책]  \n118  [Life & 교육]  \n119    [AI & 산업]  \n\n[120 rows x 4 columns]",
      "text/html": "<div>\n<style scoped>\n    .dataframe tbody tr th:only-of-type {\n        vertical-align: middle;\n    }\n\n    .dataframe tbody tr th {\n        vertical-align: top;\n    }\n\n    .dataframe thead th {\n        text-align: right;\n    }\n</style>\n<table border=\"1\" class=\"dataframe\">\n  <thead>\n    <tr style=\"text-align: right;\">\n      <th></th>\n      <th>link</th>\n      <th>title</th>\n      <th>date</th>\n      <th>big_category</th>\n    </tr>\n  </thead>\n  <tbody>\n    <tr>\n      <th>0</th>\n      <td>http://www.aitimes.com/news/articleView.html?i...</td>\n      <td>엔비디아, ARM 인수 '확정'…젠슨 황, \"AI 시대를 위한 결정\"</td>\n      <td>2020-09-14 09:51</td>\n      <td>[AI &amp; 산업]</td>\n    </tr>\n    <tr>\n      <th>1</th>\n      <td>http://www.aitimes.com/news/articleView.html?i...</td>\n      <td>광주·전남 행정 통합 논의 시동 걸었다</td>\n      <td>2020-09-14 09:20</td>\n      <td>[호남]</td>\n    </tr>\n    <tr>\n      <th>2</th>\n      <td>http://www.aitimes.com/news/articleView.html?i...</td>\n      <td>[Monday News] 'AI 중심도시 광주' 이것이 풀어야 할 과제다 ④ 광주 ...</td>\n      <td>2020-09-13 23:35</td>\n      <td>[호남]</td>\n    </tr>\n    <tr>\n      <th>3</th>\n      <td>http://www.aitimes.com/news/articleView.html?i...</td>\n      <td>인체에 유해한 전자파?…국립전파연구원, '팩트체크' 자리 마련</td>\n      <td>2020-09-13 16:24</td>\n      <td>[AI &amp; 정책]</td>\n    </tr>\n    <tr>\n      <th>4</th>\n      <td>http://www.aitimes.com/news/articleView.html?i...</td>\n      <td>삼성전기, 초소형 파워인덕터 개발…엣지 AI 소형화 가속</td>\n      <td>2020-09-13 16:24</td>\n      <td>[AI &amp; Tech]</td>\n    </tr>\n    <tr>\n      <th>...</th>\n      <td>...</td>\n      <td>...</td>\n      <td>...</td>\n      <td>...</td>\n    </tr>\n    <tr>\n      <th>115</th>\n      <td>http://www.aitimes.com/news/articleView.html?i...</td>\n      <td>국내 주도 ICT 보안 표준안 8건 '국제 표준' 채택</td>\n      <td>2020-09-03 14:52</td>\n      <td>[AI &amp; 정책]</td>\n    </tr>\n    <tr>\n      <th>116</th>\n      <td>http://www.aitimes.com/news/articleView.html?i...</td>\n      <td>로봇견 ‘스폿’, 코로나19 최전방서 의료진 도와 활약할까</td>\n      <td>2020-09-03 14:42</td>\n      <td>[AI &amp; Tech]</td>\n    </tr>\n    <tr>\n      <th>117</th>\n      <td>http://www.aitimes.com/news/articleView.html?i...</td>\n      <td>산업부, AI 반도체 상용화 위한 기술 개발 추진… 미래차ㆍIoT 등에 적용한다</td>\n      <td>2020-09-03 14:41</td>\n      <td>[AI &amp; 정책]</td>\n    </tr>\n    <tr>\n      <th>118</th>\n      <td>http://www.aitimes.com/news/articleView.html?i...</td>\n      <td>한국인공지능학회, '2020년 하계학술대회' 열어 AI 연구 조망</td>\n      <td>2020-09-03 14:03</td>\n      <td>[Life &amp; 교육]</td>\n    </tr>\n    <tr>\n      <th>119</th>\n      <td>http://www.aitimes.com/news/articleView.html?i...</td>\n      <td>\"턱스크 잡는다\"...LG U+, ‘AIㆍ5G 방역로봇’ 개발</td>\n      <td>2020-09-03 13:58</td>\n      <td>[AI &amp; 산업]</td>\n    </tr>\n  </tbody>\n</table>\n<p>120 rows × 4 columns</p>\n</div>"
     },
     "metadata": {},
     "execution_count": 6
    }
   ],
   "source": [
    "times"
   ]
  },
  {
   "cell_type": "code",
   "execution_count": 7,
   "metadata": {},
   "outputs": [
    {
     "output_type": "execute_result",
     "data": {
      "text/plain": "0      http://www.aitimes.com/news/articleView.html?i...\n1      http://www.aitimes.com/news/articleView.html?i...\n2      http://www.aitimes.com/news/articleView.html?i...\n3      http://www.aitimes.com/news/articleView.html?i...\n4      http://www.aitimes.com/news/articleView.html?i...\n                             ...                        \n115    http://www.aitimes.com/news/articleView.html?i...\n116    http://www.aitimes.com/news/articleView.html?i...\n117    http://www.aitimes.com/news/articleView.html?i...\n118    http://www.aitimes.com/news/articleView.html?i...\n119    http://www.aitimes.com/news/articleView.html?i...\nName: link, Length: 120, dtype: object"
     },
     "metadata": {},
     "execution_count": 7
    }
   ],
   "source": [
    "times.link"
   ]
  },
  {
   "cell_type": "code",
   "execution_count": 17,
   "metadata": {
    "tags": []
   },
   "outputs": [
    {
     "output_type": "stream",
     "name": "stdout",
     "text": "['http://www.aitimes.com/news/articleView.html?idxno=132188', '엔비디아,ARM,소프트뱅크,GPU,CPU,반도체']\n['http://www.aitimes.com/news/articleView.html?idxno=132185', nan]\n['http://www.aitimes.com/news/articleView.html?idxno=132180', nan]\n['http://www.aitimes.com/news/articleView.html?idxno=132178', '5G,전자파,전자기파,전파,무선통신,이동통신,과기정통부']\n['http://www.aitimes.com/news/articleView.html?idxno=132179', nan]\n['http://www.aitimes.com/news/articleView.html?idxno=132176', '과기정통부,IoT,AIoT']\n['http://www.aitimes.com/news/articleView.html?idxno=132175', '화웨이,통신장비,5G,에릭슨']\n['http://www.aitimes.com/news/articleView.html?idxno=132173', 'LG,LG사이언스파크,A3MD,신소재개발,화학소재']\n['http://www.aitimes.com/news/articleView.html?idxno=132174', 'ARM,엔비디아,소프트뱅크,젠슨황']\n['http://www.aitimes.com/news/articleView.html?idxno=132075', nan]\n['http://www.aitimes.com/news/articleView.html?idxno=132159', 'GPT-3']\n['http://www.aitimes.com/news/articleView.html?idxno=132170', nan]\n['http://www.aitimes.com/news/articleView.html?idxno=132153', '오라클,IaaS,IDC,클라우드,클라우드서비스,줌,SaaS']\n['http://www.aitimes.com/news/articleView.html?idxno=132168', nan]\n['http://www.aitimes.com/news/articleView.html?idxno=132163', '과학기술정보통신부,디지털뉴딜,양자암호통신,K-사이버방역,정보통신기술,ICT']\n['http://www.aitimes.com/news/articleView.html?idxno=132167', nan]\n['http://www.aitimes.com/news/articleView.html?idxno=132166', '패밀리특허,한국지식재산연구원,한국전자통신연구원,ETRI,5G,AI,디지털뉴딜']\n['http://www.aitimes.com/news/articleView.html?idxno=132164', '국토교통부,디지털,도로망,지능형교통체계,ITS,차세대지능형교통체계,C-ITS']\n['http://www.aitimes.com/news/articleView.html?idxno=132162', nan]\n['http://www.aitimes.com/news/articleView.html?idxno=132161', nan]\n['http://www.aitimes.com/news/articleView.html?idxno=132158', nan]\n['http://www.aitimes.com/news/articleView.html?idxno=132146', nan]\n['http://www.aitimes.com/news/articleView.html?idxno=132160', nan]\n['http://www.aitimes.com/news/articleView.html?idxno=132152', '과학기술정보통신부,한국판뉴딜,디지털뉴딜,와이파이,WiFi,KT,SKT,LGU+']\n['http://www.aitimes.com/news/articleView.html?idxno=132155', 'MS,딥스피드']\n['http://www.aitimes.com/news/articleView.html?idxno=132150', nan]\n['http://www.aitimes.com/news/articleView.html?idxno=132148', '데이터라벨링,딥네츄럴,자연어처리,NLP,데이터가공']\n['http://www.aitimes.com/news/articleView.html?idxno=132135', '데이터,네트워크,인공지능,Data,Network,AI,시큐웍스,테크하임']\n['http://www.aitimes.com/news/articleView.html?idxno=132141', nan]\n['http://www.aitimes.com/news/articleView.html?idxno=132140', nan]\n['http://www.aitimes.com/news/articleView.html?idxno=132112', nan]\n['http://www.aitimes.com/news/articleView.html?idxno=132113', '브이리뷰,Vreview,인덴트코퍼레이션,챗봇,영상후기,구매후기동영상,위젯']\n['http://www.aitimes.com/news/articleView.html?idxno=132133', nan]\n['http://www.aitimes.com/news/articleView.html?idxno=132110', nan]\n['http://www.aitimes.com/news/articleView.html?idxno=132124', nan]\n['http://www.aitimes.com/news/articleView.html?idxno=132126', nan]\n['http://www.aitimes.com/news/articleView.html?idxno=132130', '오픈AI,자연어AI,GPT-3,T5']\n['http://www.aitimes.com/news/articleView.html?idxno=132111', '과학기술정보통신부,산업통상자원부,지능형반도체,인공지능반도체,AI반도체,D.N.A,디지털뉴딜']\n['http://www.aitimes.com/news/articleView.html?idxno=132127', nan]\n['http://www.aitimes.com/news/articleView.html?idxno=132117', '한국기계연구원,KIMM,모듈형,로봇,인공지능,AI,매니퓰레이터']\n['http://www.aitimes.com/news/articleView.html?idxno=132115', nan]\n['http://www.aitimes.com/news/articleView.html?idxno=132116', '네이버,연세대학교,MOU,협약식,상호협약,SW,HW,온라인협약,교육과정공동개발']\n['http://www.aitimes.com/news/articleView.html?idxno=132093', '디지털헬스,원격진료,원격의료,모바일헬스케어,AI헬스케어,데이터,네트워크,인공지능,AI,정보통신기획평가원,IITP']\n['http://www.aitimes.com/news/articleView.html?idxno=132109', nan]\n['http://www.aitimes.com/news/articleView.html?idxno=132072', 'AI동향,AI 정보']\n['http://www.aitimes.com/news/articleView.html?idxno=132094', nan]\n['http://www.aitimes.com/news/articleView.html?idxno=132100', nan]\n['http://www.aitimes.com/news/articleView.html?idxno=132090', nan]\n['http://www.aitimes.com/news/articleView.html?idxno=132092', '삼성SDS,디지털트랜스포메이션,REAL2020,AI워커,AI어시스턴트,RPA,업무자동화,브리티RPA']\n['http://www.aitimes.com/news/articleView.html?idxno=132088', '빅데이터거래소,베이징']\n['http://www.aitimes.com/news/articleView.html?idxno=132086', nan]\n['http://www.aitimes.com/news/articleView.html?idxno=132070', '챗봇,가상연인,AI연인,NLG,NLU,DM,BM,마인드로직,가상남녀,구글어시스턴트']\n['http://www.aitimes.com/news/articleView.html?idxno=132083', nan]\n['http://www.aitimes.com/news/articleView.html?idxno=132063', '한국전자통신연구원,ETRI,ATSC 3.0,전파,중계기']\n['http://www.aitimes.com/news/articleView.html?idxno=132068', nan]\n['http://www.aitimes.com/news/articleView.html?idxno=132071', nan]\n['http://www.aitimes.com/news/articleView.html?idxno=132073', nan]\n['http://www.aitimes.com/news/articleView.html?idxno=132061', '스타트업,신규투자,시드펀딩,D2SF,네이버,3D,애니메이션']\n['http://www.aitimes.com/news/articleView.html?idxno=132064', nan]\n['http://www.aitimes.com/news/articleView.html?idxno=132062', nan]\n['http://www.aitimes.com/news/articleView.html?idxno=132065', '드론,인스페이스,한컴,한글과컴퓨터,위성지상국']\n['http://www.aitimes.com/news/articleView.html?idxno=132056', nan]\n['http://www.aitimes.com/news/articleView.html?idxno=132054', 'AI팟,MQ-9 리퍼,드론,자율비행 드론']\n['http://www.aitimes.com/news/articleView.html?idxno=132051', nan]\n['http://www.aitimes.com/news/articleView.html?idxno=132049', nan]\n['http://www.aitimes.com/news/articleView.html?idxno=132039', nan]\n['http://www.aitimes.com/news/articleView.html?idxno=132047', '산업부,교육부,ICT,디지털전환,에듀테크,비대면,언택트,AI,가상현실,AR,증강현실']\n['http://www.aitimes.com/news/articleView.html?idxno=132052', nan]\n['http://www.aitimes.com/news/articleView.html?idxno=132045', nan]\n['http://www.aitimes.com/news/articleView.html?idxno=132042', nan]\n['http://www.aitimes.com/news/articleView.html?idxno=132038', '한국데이터산업진흥원,데이터,Data,시장규모,미국,유럽,영국,일본,브라질']\n['http://www.aitimes.com/news/articleView.html?idxno=132040', '채용,카카오,카카오엔터프라이즈,i리서치,포스트닥터,박사후과정,포닥']\n['http://www.aitimes.com/news/articleView.html?idxno=132041', '한국과학기술정보연구원,KISTI,소방청,인공지능,AI,빅데이터,Data']\n['http://www.aitimes.com/news/articleView.html?idxno=132030', nan]\n['http://www.aitimes.com/news/articleView.html?idxno=132034', nan]\n['http://www.aitimes.com/news/articleView.html?idxno=132033', nan]\n['http://www.aitimes.com/news/articleView.html?idxno=132032', nan]\n['http://www.aitimes.com/news/articleView.html?idxno=132028', nan]\n['http://www.aitimes.com/news/articleView.html?idxno=132027', nan]\n['http://www.aitimes.com/news/articleView.html?idxno=132023', 'AI사고를위한인공지능랩,성인당,AI사고,MS애저머신러닝스튜디오,웨카,텐서플로GAN,AI프로그래밍,프로그래밍']\n['http://www.aitimes.com/news/articleView.html?idxno=132022', nan]\n['http://www.aitimes.com/news/articleView.html?idxno=132020', '한국인터넷진흥원,KISA,5G,보안,이동통신 표준화기술협력기구,3GPP']\n['http://www.aitimes.com/news/articleView.html?idxno=132008', '카카오,경기도청,데이터센터,한양대,네트워크,서버,스토리지,AI,클라우드']\n['http://www.aitimes.com/news/articleView.html?idxno=132007', '정보통신기획평가원,IITP,6세대,이동통신,6G,국제표준,테라헤르츠,THz,가상현실,증강현실,VR,AR']\n['http://www.aitimes.com/news/articleView.html?idxno=132015', '엣지AI,AI칩,딥러닝,비전프로세싱,클라우드,자율주행']\n['http://www.aitimes.com/news/articleView.html?idxno=132016', 'AI,양자컴퓨터,양자AI,스마트홈,RPA,IPA']\n['http://www.aitimes.com/news/articleView.html?idxno=132010', nan]\n['http://www.aitimes.com/news/articleView.html?idxno=132013', nan]\n['http://www.aitimes.com/news/articleView.html?idxno=132009', nan]\n['http://www.aitimes.com/news/articleView.html?idxno=132005', nan]\n['http://www.aitimes.com/news/articleView.html?idxno=132001', nan]\n['http://www.aitimes.com/news/articleView.html?idxno=131999', nan]\n['http://www.aitimes.com/news/articleView.html?idxno=131998', '전자피부,인공피부,센서,로봇,RMIT']\n['http://www.aitimes.com/news/articleView.html?idxno=131997', '네이버,코로나19,카카오톡,QR체크인,QR코드']\n['http://www.aitimes.com/news/articleView.html?idxno=131996', 'LG유플러스,클라우드,디지털트랜스포메이션,구글클라우드플랫폼,AWS']\n['http://www.aitimes.com/news/articleView.html?idxno=131991', nan]\n['http://www.aitimes.com/news/articleView.html?idxno=131992', nan]\n['http://www.aitimes.com/news/articleView.html?idxno=131990', nan]\n['http://www.aitimes.com/news/articleView.html?idxno=131987', '신경망,ReRAM,메모리반도체,위비트나노,딥러닝,CNN,ANN,SNN,뉴런']\n['http://www.aitimes.com/news/articleView.html?idxno=131988', nan]\n['http://www.aitimes.com/news/articleView.html?idxno=131986', nan]\n['http://www.aitimes.com/news/articleView.html?idxno=131981', nan]\n['http://www.aitimes.com/news/articleView.html?idxno=131982', 'GPT-3']\n['http://www.aitimes.com/news/articleView.html?idxno=131977', nan]\n['http://www.aitimes.com/news/articleView.html?idxno=131983', '인공직관,FinCEN,금융범죄단속기구,인공지능,더넥스트웹']\n['http://www.aitimes.com/news/articleView.html?idxno=131974', nan]\n['http://www.aitimes.com/news/articleView.html?idxno=131980', '한국표준과학연구소,KRISS,비대면,연구협업,버추얼랩,Virtual Labs']\n['http://www.aitimes.com/news/articleView.html?idxno=131978', nan]\n['http://www.aitimes.com/news/articleView.html?idxno=131955', nan]\n['http://www.aitimes.com/news/articleView.html?idxno=131966', nan]\n['http://www.aitimes.com/news/articleView.html?idxno=131958', nan]\n['http://www.aitimes.com/news/articleView.html?idxno=131951', nan]\n['http://www.aitimes.com/news/articleView.html?idxno=131941', nan]\n['http://www.aitimes.com/news/articleView.html?idxno=131942', nan]\n['http://www.aitimes.com/news/articleView.html?idxno=131938', nan]\n['http://www.aitimes.com/news/articleView.html?idxno=131944', '국립전파연구원,국제전기통신연합,ITU,ITU-T,SG17,양자암호통신,정보보호,국제표준,표준화']\n['http://www.aitimes.com/news/articleView.html?idxno=131943', nan]\n['http://www.aitimes.com/news/articleView.html?idxno=131940', '산업통상자원부,인공지능반도체,AI반도체,자율주행차,사물인터넷,IoT,바이오,로봇,미세공정']\n['http://www.aitimes.com/news/articleView.html?idxno=131936', '한국인공지능학회,인공지능,AI,인공지능대학원,AI대학원,바이오의료,신경과학,컴퓨터비전']\n['http://www.aitimes.com/news/articleView.html?idxno=131935', nan]\n"
    },
    {
     "output_type": "execute_result",
     "data": {
      "text/plain": "                                                  link  \\\n0    http://www.aitimes.com/news/articleView.html?i...   \n1    http://www.aitimes.com/news/articleView.html?i...   \n2    http://www.aitimes.com/news/articleView.html?i...   \n3    http://www.aitimes.com/news/articleView.html?i...   \n4    http://www.aitimes.com/news/articleView.html?i...   \n..                                                 ...   \n115  http://www.aitimes.com/news/articleView.html?i...   \n116  http://www.aitimes.com/news/articleView.html?i...   \n117  http://www.aitimes.com/news/articleView.html?i...   \n118  http://www.aitimes.com/news/articleView.html?i...   \n119  http://www.aitimes.com/news/articleView.html?i...   \n\n                                                   tag  \\\n0                           엔비디아,ARM,소프트뱅크,GPU,CPU,반도체   \n1                                                  NaN   \n2                                                  NaN   \n3                       5G,전자파,전자기파,전파,무선통신,이동통신,과기정통부   \n4                                                  NaN   \n..                                                 ...   \n115  국립전파연구원,국제전기통신연합,ITU,ITU-T,SG17,양자암호통신,정보보호,국제...   \n116                                                NaN   \n117  산업통상자원부,인공지능반도체,AI반도체,자율주행차,사물인터넷,IoT,바이오,로봇,미세공정   \n118    한국인공지능학회,인공지능,AI,인공지능대학원,AI대학원,바이오의료,신경과학,컴퓨터비전   \n119                                                NaN   \n\n                                               content  \n0    [[결국 엔비디아가 ARM을 인수했다. 인수액은 400억달러(약 47조원). 전날 ...  \n1    [[광주와 전남지역을 합쳐 하나의 지방자치단체를 만들자는 '광주·전남 행정통합'이 ...  \n2    [[ ], [1조원의 예산이 투입되는 AI 중심 산업융합 집적단지가 광주에 조성되고...  \n3    [[국립전파연구원이 전자파에 대한 올바른 정보를 제공한다. 온라인 포럼을 통해 5G...  \n4    [[삼성전기가 초소형 파워인덕터를 개발했다. ], [파워인덕터는 반도체에 안정적인 ...  \n..                                                 ...  \n115  [[국제표준기구가 국내 연구진 주도로 제안한 정보보호 분야 표준안 8건을 국제 표준...  \n116  [[4족 보행 로봇 ‘스폿(Spot)’이 코로나19 최전방에서 고생하는 의료진에 힘...  \n117  [[정부가 인공지능(AI) 반도체 상용화를 목표로 관련 기술 개발에 착수한다. 민간...  \n118  [[한국인공지능학회(학회장 유창동)는 인공지능(AI) 연구자의 학술 교류 및 최근 ...  \n119  [[마스크 착용 여부와 체온을 측정해 코로나19 방역 관리 효율을 높일 수 있는 ‘...  \n\n[120 rows x 3 columns]",
      "text/html": "<div>\n<style scoped>\n    .dataframe tbody tr th:only-of-type {\n        vertical-align: middle;\n    }\n\n    .dataframe tbody tr th {\n        vertical-align: top;\n    }\n\n    .dataframe thead th {\n        text-align: right;\n    }\n</style>\n<table border=\"1\" class=\"dataframe\">\n  <thead>\n    <tr style=\"text-align: right;\">\n      <th></th>\n      <th>link</th>\n      <th>tag</th>\n      <th>content</th>\n    </tr>\n  </thead>\n  <tbody>\n    <tr>\n      <th>0</th>\n      <td>http://www.aitimes.com/news/articleView.html?i...</td>\n      <td>엔비디아,ARM,소프트뱅크,GPU,CPU,반도체</td>\n      <td>[[결국 엔비디아가 ARM을 인수했다. 인수액은 400억달러(약 47조원). 전날 ...</td>\n    </tr>\n    <tr>\n      <th>1</th>\n      <td>http://www.aitimes.com/news/articleView.html?i...</td>\n      <td>NaN</td>\n      <td>[[광주와 전남지역을 합쳐 하나의 지방자치단체를 만들자는 '광주·전남 행정통합'이 ...</td>\n    </tr>\n    <tr>\n      <th>2</th>\n      <td>http://www.aitimes.com/news/articleView.html?i...</td>\n      <td>NaN</td>\n      <td>[[ ], [1조원의 예산이 투입되는 AI 중심 산업융합 집적단지가 광주에 조성되고...</td>\n    </tr>\n    <tr>\n      <th>3</th>\n      <td>http://www.aitimes.com/news/articleView.html?i...</td>\n      <td>5G,전자파,전자기파,전파,무선통신,이동통신,과기정통부</td>\n      <td>[[국립전파연구원이 전자파에 대한 올바른 정보를 제공한다. 온라인 포럼을 통해 5G...</td>\n    </tr>\n    <tr>\n      <th>4</th>\n      <td>http://www.aitimes.com/news/articleView.html?i...</td>\n      <td>NaN</td>\n      <td>[[삼성전기가 초소형 파워인덕터를 개발했다. ], [파워인덕터는 반도체에 안정적인 ...</td>\n    </tr>\n    <tr>\n      <th>...</th>\n      <td>...</td>\n      <td>...</td>\n      <td>...</td>\n    </tr>\n    <tr>\n      <th>115</th>\n      <td>http://www.aitimes.com/news/articleView.html?i...</td>\n      <td>국립전파연구원,국제전기통신연합,ITU,ITU-T,SG17,양자암호통신,정보보호,국제...</td>\n      <td>[[국제표준기구가 국내 연구진 주도로 제안한 정보보호 분야 표준안 8건을 국제 표준...</td>\n    </tr>\n    <tr>\n      <th>116</th>\n      <td>http://www.aitimes.com/news/articleView.html?i...</td>\n      <td>NaN</td>\n      <td>[[4족 보행 로봇 ‘스폿(Spot)’이 코로나19 최전방에서 고생하는 의료진에 힘...</td>\n    </tr>\n    <tr>\n      <th>117</th>\n      <td>http://www.aitimes.com/news/articleView.html?i...</td>\n      <td>산업통상자원부,인공지능반도체,AI반도체,자율주행차,사물인터넷,IoT,바이오,로봇,미세공정</td>\n      <td>[[정부가 인공지능(AI) 반도체 상용화를 목표로 관련 기술 개발에 착수한다. 민간...</td>\n    </tr>\n    <tr>\n      <th>118</th>\n      <td>http://www.aitimes.com/news/articleView.html?i...</td>\n      <td>한국인공지능학회,인공지능,AI,인공지능대학원,AI대학원,바이오의료,신경과학,컴퓨터비전</td>\n      <td>[[한국인공지능학회(학회장 유창동)는 인공지능(AI) 연구자의 학술 교류 및 최근 ...</td>\n    </tr>\n    <tr>\n      <th>119</th>\n      <td>http://www.aitimes.com/news/articleView.html?i...</td>\n      <td>NaN</td>\n      <td>[[마스크 착용 여부와 체온을 측정해 코로나19 방역 관리 효율을 높일 수 있는 ‘...</td>\n    </tr>\n  </tbody>\n</table>\n<p>120 rows × 3 columns</p>\n</div>"
     },
     "metadata": {},
     "execution_count": 17
    }
   ],
   "source": [
    "times_content = []\n",
    "\n",
    "for link in times.link :\n",
    "    response = requests.get(link)\n",
    "    soup = BeautifulSoup(response.text, 'html.parser')\n",
    "    try : tag = soup.head.find(\"meta\", {\"name\":\"news_keywords\"}).get('content')\n",
    "    except AttributeError : \n",
    "        tag = np.nan\n",
    "    content =soup.select('#article-view-content-div > p')\n",
    "    # rand_value = random.randint(40, 80)\n",
    "    time.sleep(50)\n",
    "    times_content.append([link,tag,content])\n",
    "    content = pd.DataFrame(times_content, columns=['link','tag','content'])\n",
    "    # content.to_csv('times_content.csv',index=False)\n",
    "    print([link,tag])\n",
    "\n",
    "content #132160 #132153\n"
   ]
  },
  {
   "cell_type": "code",
   "execution_count": 33,
   "metadata": {},
   "outputs": [
    {
     "output_type": "execute_result",
     "data": {
      "text/plain": "                                                 link  \\\n0   http://www.aitimes.com/news/articleView.html?i...   \n1   http://www.aitimes.com/news/articleView.html?i...   \n2   http://www.aitimes.com/news/articleView.html?i...   \n3   http://www.aitimes.com/news/articleView.html?i...   \n4   http://www.aitimes.com/news/articleView.html?i...   \n5   http://www.aitimes.com/news/articleView.html?i...   \n6   http://www.aitimes.com/news/articleView.html?i...   \n7   http://www.aitimes.com/news/articleView.html?i...   \n8   http://www.aitimes.com/news/articleView.html?i...   \n9   http://www.aitimes.com/news/articleView.html?i...   \n10  http://www.aitimes.com/news/articleView.html?i...   \n11  http://www.aitimes.com/news/articleView.html?i...   \n12  http://www.aitimes.com/news/articleView.html?i...   \n\n                                 tag  \n0         엔비디아,ARM,소프트뱅크,GPU,CPU,반도체  \n1                                NaN  \n2                                NaN  \n3     5G,전자파,전자기파,전파,무선통신,이동통신,과기정통부  \n4                                NaN  \n5                     과기정통부,IoT,AIoT  \n6                    화웨이,통신장비,5G,에릭슨  \n7        LG,LG사이언스파크,A3MD,신소재개발,화학소재  \n8                 ARM,엔비디아,소프트뱅크,젠슨황  \n9                                NaN  \n10                             GPT-3  \n11                               NaN  \n12  오라클,IaaS,IDC,클라우드,클라우드서비스,줌,SaaS  ",
      "text/html": "<div>\n<style scoped>\n    .dataframe tbody tr th:only-of-type {\n        vertical-align: middle;\n    }\n\n    .dataframe tbody tr th {\n        vertical-align: top;\n    }\n\n    .dataframe thead th {\n        text-align: right;\n    }\n</style>\n<table border=\"1\" class=\"dataframe\">\n  <thead>\n    <tr style=\"text-align: right;\">\n      <th></th>\n      <th>link</th>\n      <th>tag</th>\n    </tr>\n  </thead>\n  <tbody>\n    <tr>\n      <th>0</th>\n      <td>http://www.aitimes.com/news/articleView.html?i...</td>\n      <td>엔비디아,ARM,소프트뱅크,GPU,CPU,반도체</td>\n    </tr>\n    <tr>\n      <th>1</th>\n      <td>http://www.aitimes.com/news/articleView.html?i...</td>\n      <td>NaN</td>\n    </tr>\n    <tr>\n      <th>2</th>\n      <td>http://www.aitimes.com/news/articleView.html?i...</td>\n      <td>NaN</td>\n    </tr>\n    <tr>\n      <th>3</th>\n      <td>http://www.aitimes.com/news/articleView.html?i...</td>\n      <td>5G,전자파,전자기파,전파,무선통신,이동통신,과기정통부</td>\n    </tr>\n    <tr>\n      <th>4</th>\n      <td>http://www.aitimes.com/news/articleView.html?i...</td>\n      <td>NaN</td>\n    </tr>\n    <tr>\n      <th>5</th>\n      <td>http://www.aitimes.com/news/articleView.html?i...</td>\n      <td>과기정통부,IoT,AIoT</td>\n    </tr>\n    <tr>\n      <th>6</th>\n      <td>http://www.aitimes.com/news/articleView.html?i...</td>\n      <td>화웨이,통신장비,5G,에릭슨</td>\n    </tr>\n    <tr>\n      <th>7</th>\n      <td>http://www.aitimes.com/news/articleView.html?i...</td>\n      <td>LG,LG사이언스파크,A3MD,신소재개발,화학소재</td>\n    </tr>\n    <tr>\n      <th>8</th>\n      <td>http://www.aitimes.com/news/articleView.html?i...</td>\n      <td>ARM,엔비디아,소프트뱅크,젠슨황</td>\n    </tr>\n    <tr>\n      <th>9</th>\n      <td>http://www.aitimes.com/news/articleView.html?i...</td>\n      <td>NaN</td>\n    </tr>\n    <tr>\n      <th>10</th>\n      <td>http://www.aitimes.com/news/articleView.html?i...</td>\n      <td>GPT-3</td>\n    </tr>\n    <tr>\n      <th>11</th>\n      <td>http://www.aitimes.com/news/articleView.html?i...</td>\n      <td>NaN</td>\n    </tr>\n    <tr>\n      <th>12</th>\n      <td>http://www.aitimes.com/news/articleView.html?i...</td>\n      <td>오라클,IaaS,IDC,클라우드,클라우드서비스,줌,SaaS</td>\n    </tr>\n  </tbody>\n</table>\n</div>"
     },
     "metadata": {},
     "execution_count": 33
    }
   ],
   "source": [
    "# content = pd.DataFrame(times_content, columns=['link','tag'])\n",
    "# content"
   ]
  },
  {
   "cell_type": "code",
   "execution_count": 162,
   "metadata": {},
   "outputs": [],
   "source": [
    "# content.to_csv('times_content.csv',index=False)"
   ]
  },
  {
   "cell_type": "code",
   "execution_count": null,
   "metadata": {},
   "outputs": [],
   "source": []
  },
  {
   "cell_type": "code",
   "execution_count": null,
   "metadata": {},
   "outputs": [],
   "source": []
  }
 ]
}